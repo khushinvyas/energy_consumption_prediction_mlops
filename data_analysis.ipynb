{
 "cells": [
  {
   "cell_type": "code",
   "execution_count": 2,
   "id": "360309a2",
   "metadata": {},
   "outputs": [
    {
     "name": "stdout",
     "output_type": "stream",
     "text": [
      "Original Data Head:\n",
      "         Date      Time  Global_active_power  Global_reactive_power  Voltage  \\\n",
      "0  16/12/2006  17:24:00                4.216                  0.418   234.84   \n",
      "1  16/12/2006  17:25:00                5.360                  0.436   233.63   \n",
      "2  16/12/2006  17:26:00                5.374                  0.498   233.29   \n",
      "3  16/12/2006  17:27:00                5.388                  0.502   233.74   \n",
      "4  16/12/2006  17:28:00                3.666                  0.528   235.68   \n",
      "\n",
      "   Global_intensity  Sub_metering_1  Sub_metering_2  Sub_metering_3  \n",
      "0              18.4             0.0             1.0            17.0  \n",
      "1              23.0             0.0             1.0            16.0  \n",
      "2              23.0             0.0             2.0            17.0  \n",
      "3              23.0             0.0             1.0            17.0  \n",
      "4              15.8             0.0             1.0            17.0  \n",
      "\n",
      "Original Data Types:\n",
      "<class 'pandas.core.frame.DataFrame'>\n",
      "RangeIndex: 2075259 entries, 0 to 2075258\n",
      "Data columns (total 9 columns):\n",
      " #   Column                 Dtype  \n",
      "---  ------                 -----  \n",
      " 0   Date                   object \n",
      " 1   Time                   object \n",
      " 2   Global_active_power    float64\n",
      " 3   Global_reactive_power  float64\n",
      " 4   Voltage                float64\n",
      " 5   Global_intensity       float64\n",
      " 6   Sub_metering_1         float64\n",
      " 7   Sub_metering_2         float64\n",
      " 8   Sub_metering_3         float64\n",
      "dtypes: float64(7), object(2)\n",
      "memory usage: 142.5+ MB\n",
      "None\n"
     ]
    }
   ],
   "source": [
    "import pandas as pd\n",
    "import numpy as np\n",
    "\n",
    "# Define the file path for the dataset\n",
    "file_path = r'D:\\MLOPS\\MLOPS Project\\energy_consumption_prediction\\data\\raw\\household_power_consumption.txt'\n",
    "\n",
    "# Load the dataset\n",
    "# The dataset is semicolon-separated and missing values are represented by '?'\n",
    "df = pd.read_csv(file_path, sep=';', low_memory=False, na_values=['?'])\n",
    "\n",
    "# Display the first few rows and the data types of the columns\n",
    "print(\"Original Data Head:\")\n",
    "print(df.head())\n",
    "print(\"\\nOriginal Data Types:\")\n",
    "print(df.info())"
   ]
  },
  {
   "cell_type": "code",
   "execution_count": 3,
   "id": "15f99d9c",
   "metadata": {},
   "outputs": [
    {
     "name": "stdout",
     "output_type": "stream",
     "text": [
      "\n",
      "Data with Datetime Index:\n",
      "                     Global_active_power  Global_reactive_power  Voltage  \\\n",
      "datetime                                                                   \n",
      "2006-12-16 17:24:00                4.216                  0.418   234.84   \n",
      "2006-12-16 17:25:00                5.360                  0.436   233.63   \n",
      "2006-12-16 17:26:00                5.374                  0.498   233.29   \n",
      "2006-12-16 17:27:00                5.388                  0.502   233.74   \n",
      "2006-12-16 17:28:00                3.666                  0.528   235.68   \n",
      "\n",
      "                     Global_intensity  Sub_metering_1  Sub_metering_2  \\\n",
      "datetime                                                                \n",
      "2006-12-16 17:24:00              18.4             0.0             1.0   \n",
      "2006-12-16 17:25:00              23.0             0.0             1.0   \n",
      "2006-12-16 17:26:00              23.0             0.0             2.0   \n",
      "2006-12-16 17:27:00              23.0             0.0             1.0   \n",
      "2006-12-16 17:28:00              15.8             0.0             1.0   \n",
      "\n",
      "                     Sub_metering_3  \n",
      "datetime                             \n",
      "2006-12-16 17:24:00            17.0  \n",
      "2006-12-16 17:25:00            16.0  \n",
      "2006-12-16 17:26:00            17.0  \n",
      "2006-12-16 17:27:00            17.0  \n",
      "2006-12-16 17:28:00            17.0  \n",
      "\n",
      "Updated Data Types:\n",
      "<class 'pandas.core.frame.DataFrame'>\n",
      "DatetimeIndex: 2075259 entries, 2006-12-16 17:24:00 to 2010-11-26 21:02:00\n",
      "Data columns (total 7 columns):\n",
      " #   Column                 Dtype  \n",
      "---  ------                 -----  \n",
      " 0   Global_active_power    float64\n",
      " 1   Global_reactive_power  float64\n",
      " 2   Voltage                float64\n",
      " 3   Global_intensity       float64\n",
      " 4   Sub_metering_1         float64\n",
      " 5   Sub_metering_2         float64\n",
      " 6   Sub_metering_3         float64\n",
      "dtypes: float64(7)\n",
      "memory usage: 126.7 MB\n",
      "None\n",
      "\n",
      "Missing Values Before Handling:\n",
      "Global_active_power      25979\n",
      "Global_reactive_power    25979\n",
      "Voltage                  25979\n",
      "Global_intensity         25979\n",
      "Sub_metering_1           25979\n",
      "Sub_metering_2           25979\n",
      "Sub_metering_3           25979\n",
      "dtype: int64\n",
      "\n",
      "Missing Values After Handling:\n",
      "Global_active_power      0\n",
      "Global_reactive_power    0\n",
      "Voltage                  0\n",
      "Global_intensity         0\n",
      "Sub_metering_1           0\n",
      "Sub_metering_2           0\n",
      "Sub_metering_3           0\n",
      "dtype: int64\n"
     ]
    }
   ],
   "source": [
    "# Combine 'Date' and 'Time' into a single datetime column\n",
    "df['datetime'] = pd.to_datetime(df['Date'] + ' ' + df['Time'], dayfirst=True)\n",
    "\n",
    "# Set the new 'datetime' column as the index\n",
    "df.set_index('datetime', inplace=True)\n",
    "\n",
    "# Drop the original 'Date' and 'Time' columns\n",
    "df.drop(['Date', 'Time'], axis=1, inplace=True)\n",
    "\n",
    "# Display the first few rows with the new index\n",
    "print(\"\\nData with Datetime Index:\")\n",
    "print(df.head())\n",
    "print(\"\\nUpdated Data Types:\")\n",
    "print(df.info())\n",
    "\n",
    "\n",
    "# Check for missing values in each column\n",
    "print(\"\\nMissing Values Before Handling:\")\n",
    "print(df.isnull().sum())\n",
    "\n",
    "# Handle missing values using forward fill\n",
    "df.ffill(inplace=True)\n",
    "\n",
    "# Verify that there are no more missing values\n",
    "print(\"\\nMissing Values After Handling:\")\n",
    "print(df.isnull().sum())"
   ]
  },
  {
   "cell_type": "code",
   "execution_count": 4,
   "id": "209e4a87",
   "metadata": {},
   "outputs": [
    {
     "name": "stdout",
     "output_type": "stream",
     "text": [
      "\n",
      "Data with Sub_metering_4:\n",
      "                     Global_active_power  Global_reactive_power  Voltage  \\\n",
      "datetime                                                                   \n",
      "2006-12-16 17:24:00                4.216                  0.418   234.84   \n",
      "2006-12-16 17:25:00                5.360                  0.436   233.63   \n",
      "2006-12-16 17:26:00                5.374                  0.498   233.29   \n",
      "2006-12-16 17:27:00                5.388                  0.502   233.74   \n",
      "2006-12-16 17:28:00                3.666                  0.528   235.68   \n",
      "\n",
      "                     Global_intensity  Sub_metering_1  Sub_metering_2  \\\n",
      "datetime                                                                \n",
      "2006-12-16 17:24:00              18.4             0.0             1.0   \n",
      "2006-12-16 17:25:00              23.0             0.0             1.0   \n",
      "2006-12-16 17:26:00              23.0             0.0             2.0   \n",
      "2006-12-16 17:27:00              23.0             0.0             1.0   \n",
      "2006-12-16 17:28:00              15.8             0.0             1.0   \n",
      "\n",
      "                     Sub_metering_3  Sub_metering_4  \n",
      "datetime                                             \n",
      "2006-12-16 17:24:00            17.0       52.266670  \n",
      "2006-12-16 17:25:00            16.0       72.333336  \n",
      "2006-12-16 17:26:00            17.0       70.566666  \n",
      "2006-12-16 17:27:00            17.0       71.800003  \n",
      "2006-12-16 17:28:00            17.0       43.099998  \n"
     ]
    }
   ],
   "source": [
    "# Calculate the remainder of the sub-metering\n",
    "values = df.values.astype('float32')\n",
    "df['Sub_metering_4'] = (values[:, 0] * 1000 / 60) - (values[:, 4] + values[:, 5] + values[:, 6])\n",
    "\n",
    "print(\"\\nData with Sub_metering_4:\")\n",
    "print(df.head())"
   ]
  },
  {
   "cell_type": "code",
   "execution_count": 6,
   "id": "546bd8cd",
   "metadata": {},
   "outputs": [
    {
     "name": "stdout",
     "output_type": "stream",
     "text": [
      "\n",
      "Hourly Resampled Data Head:\n",
      "                     Global_active_power  Global_reactive_power     Voltage  \\\n",
      "datetime                                                                      \n",
      "2006-12-16 17:00:00             4.222889               0.229000  234.643889   \n",
      "2006-12-16 18:00:00             3.632200               0.080033  234.580167   \n",
      "2006-12-16 19:00:00             3.400233               0.085233  233.232500   \n",
      "2006-12-16 20:00:00             3.268567               0.075100  234.071500   \n",
      "2006-12-16 21:00:00             3.056467               0.076667  237.158667   \n",
      "\n",
      "                     Global_intensity  Sub_metering_1  Sub_metering_2  \\\n",
      "datetime                                                                \n",
      "2006-12-16 17:00:00         18.100000             0.0        0.527778   \n",
      "2006-12-16 18:00:00         15.600000             0.0        6.716667   \n",
      "2006-12-16 19:00:00         14.503333             0.0        1.433333   \n",
      "2006-12-16 20:00:00         13.916667             0.0        0.000000   \n",
      "2006-12-16 21:00:00         13.046667             0.0        0.416667   \n",
      "\n",
      "                     Sub_metering_3  Sub_metering_4  \n",
      "datetime                                             \n",
      "2006-12-16 17:00:00       16.861111       52.992596  \n",
      "2006-12-16 18:00:00       16.866667       36.953331  \n",
      "2006-12-16 19:00:00       16.683333       38.553890  \n",
      "2006-12-16 20:00:00       16.783333       37.692776  \n",
      "2006-12-16 21:00:00       17.216667       33.307777  \n",
      "\n",
      "Shape of the hourly resampled data: (34589, 8)\n"
     ]
    },
    {
     "name": "stderr",
     "output_type": "stream",
     "text": [
      "C:\\Users\\khush\\AppData\\Local\\Temp\\ipykernel_19048\\3914638576.py:2: FutureWarning: 'H' is deprecated and will be removed in a future version, please use 'h' instead.\n",
      "  df_hourly = df.resample('H').mean()\n"
     ]
    }
   ],
   "source": [
    "# Resample the data to an hourly frequency, taking the mean of the values\n",
    "df_hourly = df.resample('H').mean()\n",
    "\n",
    "print(\"\\nHourly Resampled Data Head:\")\n",
    "print(df_hourly.head())\n",
    "print(\"\\nShape of the hourly resampled data:\", df_hourly.shape)"
   ]
  },
  {
   "cell_type": "code",
   "execution_count": 7,
   "id": "b8c3bb18",
   "metadata": {},
   "outputs": [
    {
     "name": "stdout",
     "output_type": "stream",
     "text": [
      "\n",
      "Preprocessed hourly data saved to 'household_power_consumption_hourly.csv'\n"
     ]
    }
   ],
   "source": [
    "# Save the cleaned and resampled dataframe to a new CSV file\n",
    "df_hourly.to_csv('household_power_consumption_hourly.csv')\n",
    "\n",
    "print(\"\\nPreprocessed hourly data saved to 'household_power_consumption_hourly.csv'\")"
   ]
  },
  {
   "cell_type": "code",
   "execution_count": null,
   "id": "71152f1d",
   "metadata": {},
   "outputs": [],
   "source": []
  }
 ],
 "metadata": {
  "kernelspec": {
   "display_name": "base",
   "language": "python",
   "name": "python3"
  },
  "language_info": {
   "codemirror_mode": {
    "name": "ipython",
    "version": 3
   },
   "file_extension": ".py",
   "mimetype": "text/x-python",
   "name": "python",
   "nbconvert_exporter": "python",
   "pygments_lexer": "ipython3",
   "version": "3.13.5"
  }
 },
 "nbformat": 4,
 "nbformat_minor": 5
}
